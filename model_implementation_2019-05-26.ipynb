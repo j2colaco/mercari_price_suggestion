{
 "cells": [
  {
   "cell_type": "markdown",
   "metadata": {},
   "source": [
    "# Model Implementation\n",
    "This file will focus on the following:\n",
    "- Benchmark model(s)to understand current state\n",
    "- Text data model preparation\n",
    "- Model implementation and trials\n",
    "- Results/summary"
   ]
  },
  {
   "cell_type": "code",
   "execution_count": 47,
   "metadata": {},
   "outputs": [],
   "source": [
    "import pandas as pd\n",
    "import numpy as np\n",
    "import re\n",
    "import gc"
   ]
  },
  {
   "cell_type": "code",
   "execution_count": 48,
   "metadata": {},
   "outputs": [],
   "source": [
    "from sklearn.metrics import mean_squared_error\n",
    "from sklearn.feature_extraction.text import TfidfVectorizer\n",
    "from sklearn.model_selection import train_test_split\n",
    "from sklearn.model_selection import KFold\n",
    "from sklearn.preprocessing import MinMaxScaler\n",
    "\n",
    "import keras\n",
    "from keras.models import Sequential\n",
    "from keras.layers import Dense, Dropout, Activation\n",
    "from keras.layers.normalization import BatchNormalization\n",
    "from keras.callbacks import LearningRateScheduler"
   ]
  },
  {
   "cell_type": "code",
   "execution_count": 49,
   "metadata": {},
   "outputs": [],
   "source": [
    "import matplotlib.pyplot as plt"
   ]
  },
  {
   "cell_type": "code",
   "execution_count": 50,
   "metadata": {},
   "outputs": [],
   "source": [
    "# code copied from https://www.kaggle.com/marknagelberg/rmsle-function\n",
    "def rmsle(y_pred, y_test) : \n",
    "    assert len(y_test) == len(y_pred)\n",
    "    return np.sqrt(np.mean((np.log(1+y_pred) - np.log(1+y_test))**2))"
   ]
  },
  {
   "cell_type": "markdown",
   "metadata": {},
   "source": [
    "# Read Data"
   ]
  },
  {
   "cell_type": "code",
   "execution_count": 51,
   "metadata": {},
   "outputs": [
    {
     "data": {
      "text/plain": [
       "(1482486, 13)"
      ]
     },
     "execution_count": 51,
     "metadata": {},
     "output_type": "execute_result"
    }
   ],
   "source": [
    "clean_data = pd.read_csv(\n",
    "    '/Users/joashc/Downloads/mercari-price-suggestion-challenge/partially_clean_train_data.csv')\n",
    "clean_data.shape"
   ]
  },
  {
   "cell_type": "markdown",
   "metadata": {},
   "source": [
    "## Benchmark Model\n",
    "\n",
    "### 2 Benchmark Model Descriptions\n",
    "- Benchmark Model 1: Assume normal distribution for price (not the case) and randomly output prices for all rows in the training data\n",
    "- Benchmark Model 2: I hypothesize that this will work the best. Input the median as predicted price for each row.\n",
    "\n",
    "### Evaluation Criteria\n",
    "- The competition states to use RMSLE (i.e logrithmic RMSE). I will use RMSE and RMSLE to gauge the performance of all models used to predict price.\n",
    "\n",
    "Below is a historgram of the price column (without outliers)"
   ]
  },
  {
   "cell_type": "code",
   "execution_count": 52,
   "metadata": {},
   "outputs": [
    {
     "data": {
      "text/plain": [
       "<matplotlib.axes._subplots.AxesSubplot at 0x15d9f7a20>"
      ]
     },
     "execution_count": 52,
     "metadata": {},
     "output_type": "execute_result"
    },
    {
     "data": {
      "image/png": "[encoded data removed]",
      "text/plain": [
       "<Figure size 432x288 with 1 Axes>"
      ]
     },
     "metadata": {},
     "output_type": "display_data"
    }
   ],
   "source": [
    "price_wo_outliers =clean_data[(clean_data['price']>clean_data.price.quantile(.05)) & \n",
    "                     (clean_data['price']<clean_data.price.quantile(.95))]\n",
    "price_wo_outliers.price.hist()"
   ]
  },
  {
   "cell_type": "markdown",
   "metadata": {},
   "source": [
    "### Benchmark Model 1"
   ]
  },
  {
   "cell_type": "code",
   "execution_count": 53,
   "metadata": {},
   "outputs": [
    {
     "name": "stdout",
     "output_type": "stream",
     "text": [
      "The mean and standard deviation are (took out outliers): 21.83 , 13.97\n"
     ]
    }
   ],
   "source": [
    "mean = clean_data[(clean_data['price']>clean_data['price'].quantile(0.05)) &\n",
    "                  (clean_data['price']<clean_data['price'].quantile(0.95))].price.mean()\n",
    "std_dev = clean_data[(clean_data['price']>clean_data['price'].quantile(0.05)) &\n",
    "                  (clean_data['price']<clean_data['price'].quantile(0.95))].price.std()\n",
    "print('The mean and standard deviation are (took out outliers):', round(mean,2), ',',round(std_dev,2))"
   ]
  },
  {
   "cell_type": "markdown",
   "metadata": {},
   "source": [
    "I do not want negative values in the price. The code has a while loop to keep predicting price assuming a normal distribution until all rows are non-negative"
   ]
  },
  {
   "cell_type": "code",
   "execution_count": 54,
   "metadata": {},
   "outputs": [
    {
     "name": "stdout",
     "output_type": "stream",
     "text": [
      "Only 5360 rows have negative values...\n",
      "Only 279 rows have negative values...\n",
      "Only 17 rows have negative values...\n",
      "Only 0 rows have negative values...\n"
     ]
    }
   ],
   "source": [
    "price_prediction = pd.DataFrame(\n",
    "    np.random.normal(mean, std_dev, clean_data.shape[0]), columns=['price_prediction'])\n",
    "\n",
    "# this while loop is to make sure there are no negative values for the price\n",
    "num_neg = 1\n",
    "while num_neg > 0:\n",
    "    price_prediction['price_prediction'] = price_prediction['price_prediction'].apply(\n",
    "        lambda x: np.random.normal(mean, std_dev, 1)[0] if x<=0 else x)\n",
    "\n",
    "    num_neg = price_prediction[price_prediction['price_prediction']<=0].shape[0]\n",
    "    print('Only', num_neg, 'rows have negative values...')"
   ]
  },
  {
   "cell_type": "code",
   "execution_count": 55,
   "metadata": {},
   "outputs": [
    {
     "name": "stdout",
     "output_type": "stream",
     "text": [
      "RMSE of normal distrubition benchmark model 1 is: 40.66\n",
      "\n",
      "RMSLE of normal distrubition benchmark model 1 is: 1.01\n"
     ]
    }
   ],
   "source": [
    "print('RMSE of normal distrubition benchmark model 1 is:', \n",
    "      round(np.sqrt(mean_squared_error(clean_data['price'],price_prediction['price_prediction'])), 2))\n",
    "\n",
    "print()\n",
    "\n",
    "print('RMSLE of normal distrubition benchmark model 1 is:',\n",
    "      round(rmsle(clean_data['price'],price_prediction['price_prediction']),2))"
   ]
  },
  {
   "cell_type": "markdown",
   "metadata": {},
   "source": [
    "### Benchmark Model 2"
   ]
  },
  {
   "cell_type": "code",
   "execution_count": 56,
   "metadata": {},
   "outputs": [
    {
     "name": "stdout",
     "output_type": "stream",
     "text": [
      "The median is (took out outliers): 17.0\n"
     ]
    }
   ],
   "source": [
    "median = clean_data[(clean_data['price']>clean_data['price'].quantile(0.05)) &\n",
    "                  (clean_data['price']<clean_data['price'].quantile(0.95))].price.median()\n",
    "print('The median is (took out outliers):', round(median,2))"
   ]
  },
  {
   "cell_type": "code",
   "execution_count": 57,
   "metadata": {},
   "outputs": [
    {
     "name": "stdout",
     "output_type": "stream",
     "text": [
      "RMSE of normal distrubition benchmark model 2 is: 39.8\n",
      "\n",
      "RMSLE of normal distrubition benchmark model 2 is: 0.75\n"
     ]
    }
   ],
   "source": [
    "### Model error if median is inputted for every price\n",
    "price_data = clean_data[['price']].copy()\n",
    "price_data['median_price'] = median\n",
    "\n",
    "print('RMSE of normal distrubition benchmark model 2 is:', \n",
    "      round(np.sqrt(mean_squared_error(price_data['price'],price_data['median_price'])), 2))\n",
    "\n",
    "print()\n",
    "\n",
    "print('RMSLE of normal distrubition benchmark model 2 is:',\n",
    "      round(rmsle(price_data['price'],price_data['median_price']),2))"
   ]
  },
  {
   "cell_type": "markdown",
   "metadata": {},
   "source": [
    "- Benchmark model 2 performs marginally better that 1 based on RMSE. However, if you look at RMSLE, it is evident that benchmark model 3 is better. This is because RMSLE uses the log function. This lessens the impact of high errors when the price is a large number.\n",
    "\n",
    "- 39.8 RMSE and 0.75 RMSLE will be used as the benchmark evaluation criteria for the neural networks model"
   ]
  },
  {
   "cell_type": "markdown",
   "metadata": {},
   "source": [
    "## Modeling Text\n",
    "- stemmed_item_description\n",
    "    - tdidf matrix\n",
    "- clean_brand_name\n",
    "    - One-hot-encode\n",
    "- clean_category_name\n",
    "    - One-hot-encode\n",
    "- clean_item_name\n",
    "    - tdidf matrix"
   ]
  },
  {
   "cell_type": "markdown",
   "metadata": {},
   "source": [
    "### One-hot-encoding Brand Name"
   ]
  },
  {
   "cell_type": "code",
   "execution_count": 12,
   "metadata": {},
   "outputs": [
    {
     "name": "stdout",
     "output_type": "stream",
     "text": [
      "There are 813 brand names that occur >= 50 times in the dataset. Will one-hot-encode these brands only.\n"
     ]
    }
   ],
   "source": [
    "unique_brand_names = pd.DataFrame(clean_data.clean_brand_name.value_counts())\n",
    "min_brand_freq = 50\n",
    "print('There are', unique_brand_names[unique_brand_names['clean_brand_name']>=min_brand_freq].shape[0],\n",
    "      'brand names that occur >=',min_brand_freq, 'times in the dataset.','Will one-hot-encode these brands only.')"
   ]
  },
  {
   "cell_type": "code",
   "execution_count": 13,
   "metadata": {
    "scrolled": true
   },
   "outputs": [
    {
     "data": {
      "text/plain": [
       "(1482486, 4782)"
      ]
     },
     "execution_count": 13,
     "metadata": {},
     "output_type": "execute_result"
    }
   ],
   "source": [
    "# one hot encoding all the brand names\n",
    "clean_brand_name_df = clean_data['clean_brand_name']\n",
    "clean_brand_name_df = pd.get_dummies(clean_brand_name_df)\n",
    "clean_brand_name_df.shape"
   ]
  },
  {
   "cell_type": "code",
   "execution_count": 14,
   "metadata": {},
   "outputs": [
    {
     "data": {
      "text/plain": [
       "(1482486, 812)"
      ]
     },
     "execution_count": 14,
     "metadata": {},
     "output_type": "execute_result"
    }
   ],
   "source": [
    "# dropping all brand names that occur less than a 100 times\n",
    "drop_brand_col_lst = []\n",
    "keep_brand_col_lst = list(unique_brand_names[unique_brand_names['clean_brand_name']>=min_brand_freq].index.values)\n",
    "keep_brand_col_lst.remove('nobrandname')\n",
    "\n",
    "for col_name in clean_brand_name_df.columns:\n",
    "    if col_name not in keep_brand_col_lst:\n",
    "        drop_brand_col_lst.append(col_name)\n",
    "\n",
    "clean_brand_name_df_v2 =clean_brand_name_df.drop(columns=drop_brand_col_lst)\n",
    "clean_brand_name_df_v2.columns = ['brand_' + str(col) for col in clean_brand_name_df_v2.columns]\n",
    "clean_brand_name_df_v2.shape"
   ]
  },
  {
   "cell_type": "code",
   "execution_count": 15,
   "metadata": {},
   "outputs": [
    {
     "data": {
      "text/plain": [
       "(1482486, 823)"
      ]
     },
     "execution_count": 15,
     "metadata": {},
     "output_type": "execute_result"
    }
   ],
   "source": [
    "# Appending the brand name columns to the original dataset\n",
    "clean_data_v2 = pd.concat([clean_data.reset_index(drop=True)\n",
    "                                   , clean_brand_name_df_v2.reset_index(drop=True)],\n",
    "                                  axis=1).drop(columns=['brand_name','clean_brand_name'])\n",
    "clean_data_v2.shape"
   ]
  },
  {
   "cell_type": "markdown",
   "metadata": {},
   "source": [
    "Due to the size of the dataset, I have to garbage collect variables that are not in use. This saves AWS instances from going into memory errors"
   ]
  },
  {
   "cell_type": "code",
   "execution_count": 16,
   "metadata": {},
   "outputs": [],
   "source": [
    "del [[clean_brand_name_df,clean_brand_name_df_v2, clean_data]]\n",
    "gc.collect()\n",
    "clean_data = pd.DataFrame()\n",
    "clean_brand_name_df=pd.DataFrame()\n",
    "clean_brand_name_df_v2=pd.DataFrame()"
   ]
  },
  {
   "cell_type": "markdown",
   "metadata": {},
   "source": [
    "### One-hot-encoding Assigned Category and Assigned Sub Category"
   ]
  },
  {
   "cell_type": "code",
   "execution_count": 17,
   "metadata": {},
   "outputs": [
    {
     "data": {
      "text/plain": [
       "(1482486, 119)"
      ]
     },
     "execution_count": 17,
     "metadata": {},
     "output_type": "execute_result"
    }
   ],
   "source": [
    "# one hot encoding category columns\n",
    "clean_category_name_df = clean_data_v2[['assigned_category', 'assigned_sub_category']]\n",
    "clean_category_name_df_v2 = pd.get_dummies(clean_category_name_df)\n",
    "clean_category_name_df_v2.shape"
   ]
  },
  {
   "cell_type": "code",
   "execution_count": 18,
   "metadata": {},
   "outputs": [
    {
     "name": "stdout",
     "output_type": "stream",
     "text": [
      "(1482486, 823)\n",
      "(1482486, 942)\n"
     ]
    }
   ],
   "source": [
    "# concat with original dataset\n",
    "print(clean_data_v2.shape)\n",
    "clean_data_v3 = pd.concat([clean_data_v2, clean_category_name_df_v2], axis=1)\n",
    "print(clean_data_v3.shape)"
   ]
  },
  {
   "cell_type": "code",
   "execution_count": 19,
   "metadata": {},
   "outputs": [],
   "source": [
    "# Delete dataframes from memory\n",
    "del [[clean_category_name_df,clean_category_name_df_v2, clean_data_v2]]\n",
    "gc.collect()\n",
    "clean_data_v2 = pd.DataFrame()\n",
    "clean_category_name_df=pd.DataFrame()\n",
    "clean_category_name_df_v2=pd.DataFrame()"
   ]
  },
  {
   "cell_type": "markdown",
   "metadata": {},
   "source": [
    "### TF-IDF item_description\n",
    "- Will test out different max features for the tfidf matrix"
   ]
  },
  {
   "cell_type": "code",
   "execution_count": 20,
   "metadata": {},
   "outputs": [
    {
     "data": {
      "text/plain": [
       "(1482486,)"
      ]
     },
     "execution_count": 20,
     "metadata": {},
     "output_type": "execute_result"
    }
   ],
   "source": [
    "item_description_df = clean_data_v3['stemmed_item_description']\n",
    "item_description_df.shape"
   ]
  },
  {
   "cell_type": "code",
   "execution_count": 21,
   "metadata": {},
   "outputs": [],
   "source": [
    "max_item_desc_features = 100"
   ]
  },
  {
   "cell_type": "code",
   "execution_count": 22,
   "metadata": {},
   "outputs": [
    {
     "name": "stdout",
     "output_type": "stream",
     "text": [
      "(1482486, 100)\n"
     ]
    },
    {
     "data": {
      "text/html": [
       "<div>\n",
       "<style scoped>\n",
       "    .dataframe tbody tr th:only-of-type {\n",
       "        vertical-align: middle;\n",
       "    }\n",
       "\n",
       "    .dataframe tbody tr th {\n",
       "        vertical-align: top;\n",
       "    }\n",
       "\n",
       "    .dataframe thead th {\n",
       "        text-align: right;\n",
       "    }\n",
       "</style>\n",
       "<table border=\"1\" class=\"dataframe\">\n",
       "  <thead>\n",
       "    <tr style=\"text-align: right;\">\n",
       "      <th></th>\n",
       "      <th>item_desc_0</th>\n",
       "      <th>item_desc_1</th>\n",
       "      <th>item_desc_2</th>\n",
       "      <th>item_desc_3</th>\n",
       "      <th>item_desc_4</th>\n",
       "      <th>item_desc_5</th>\n",
       "      <th>item_desc_6</th>\n",
       "      <th>item_desc_7</th>\n",
       "      <th>item_desc_8</th>\n",
       "      <th>item_desc_9</th>\n",
       "      <th>...</th>\n",
       "      <th>item_desc_90</th>\n",
       "      <th>item_desc_91</th>\n",
       "      <th>item_desc_92</th>\n",
       "      <th>item_desc_93</th>\n",
       "      <th>item_desc_94</th>\n",
       "      <th>item_desc_95</th>\n",
       "      <th>item_desc_96</th>\n",
       "      <th>item_desc_97</th>\n",
       "      <th>item_desc_98</th>\n",
       "      <th>item_desc_99</th>\n",
       "    </tr>\n",
       "  </thead>\n",
       "  <tbody>\n",
       "    <tr>\n",
       "      <th>0</th>\n",
       "      <td>0.0</td>\n",
       "      <td>0.0</td>\n",
       "      <td>0.0</td>\n",
       "      <td>0.0</td>\n",
       "      <td>0.0</td>\n",
       "      <td>0.0</td>\n",
       "      <td>0.0</td>\n",
       "      <td>0.0</td>\n",
       "      <td>0.0</td>\n",
       "      <td>0.000000</td>\n",
       "      <td>...</td>\n",
       "      <td>0.0</td>\n",
       "      <td>0.0</td>\n",
       "      <td>0.0</td>\n",
       "      <td>0.0</td>\n",
       "      <td>0.0</td>\n",
       "      <td>0.0</td>\n",
       "      <td>0.0</td>\n",
       "      <td>0.000000</td>\n",
       "      <td>0.0</td>\n",
       "      <td>0.714017</td>\n",
       "    </tr>\n",
       "    <tr>\n",
       "      <th>1</th>\n",
       "      <td>0.0</td>\n",
       "      <td>0.0</td>\n",
       "      <td>0.0</td>\n",
       "      <td>0.0</td>\n",
       "      <td>0.0</td>\n",
       "      <td>0.0</td>\n",
       "      <td>0.0</td>\n",
       "      <td>0.0</td>\n",
       "      <td>0.0</td>\n",
       "      <td>0.312713</td>\n",
       "      <td>...</td>\n",
       "      <td>0.0</td>\n",
       "      <td>0.0</td>\n",
       "      <td>0.0</td>\n",
       "      <td>0.0</td>\n",
       "      <td>0.0</td>\n",
       "      <td>0.0</td>\n",
       "      <td>0.0</td>\n",
       "      <td>0.734306</td>\n",
       "      <td>0.0</td>\n",
       "      <td>0.000000</td>\n",
       "    </tr>\n",
       "  </tbody>\n",
       "</table>\n",
       "<p>2 rows × 100 columns</p>\n",
       "</div>"
      ],
      "text/plain": [
       "   item_desc_0  item_desc_1  item_desc_2  item_desc_3  item_desc_4  \\\n",
       "0          0.0          0.0          0.0          0.0          0.0   \n",
       "1          0.0          0.0          0.0          0.0          0.0   \n",
       "\n",
       "   item_desc_5  item_desc_6  item_desc_7  item_desc_8  item_desc_9  ...  \\\n",
       "0          0.0          0.0          0.0          0.0     0.000000  ...   \n",
       "1          0.0          0.0          0.0          0.0     0.312713  ...   \n",
       "\n",
       "   item_desc_90  item_desc_91  item_desc_92  item_desc_93  item_desc_94  \\\n",
       "0           0.0           0.0           0.0           0.0           0.0   \n",
       "1           0.0           0.0           0.0           0.0           0.0   \n",
       "\n",
       "   item_desc_95  item_desc_96  item_desc_97  item_desc_98  item_desc_99  \n",
       "0           0.0           0.0      0.000000           0.0      0.714017  \n",
       "1           0.0           0.0      0.734306           0.0      0.000000  \n",
       "\n",
       "[2 rows x 100 columns]"
      ]
     },
     "execution_count": 22,
     "metadata": {},
     "output_type": "execute_result"
    }
   ],
   "source": [
    "# getting the tfidf matrix for the item desc\n",
    "tfidf = TfidfVectorizer(max_features=max_item_desc_features)\n",
    "x_tfidf = pd.DataFrame(tfidf.fit_transform(item_description_df).toarray())\n",
    "x_tfidf.columns = ['item_desc_' + str(col) for col in x_tfidf.columns]\n",
    "print(x_tfidf.shape)\n",
    "x_tfidf.head(2)"
   ]
  },
  {
   "cell_type": "code",
   "execution_count": 23,
   "metadata": {},
   "outputs": [
    {
     "name": "stdout",
     "output_type": "stream",
     "text": [
      "(1482486, 942)\n",
      "(1482486, 1040)\n",
      "CPU times: user 6.39 s, sys: 4.54 s, total: 10.9 s\n",
      "Wall time: 11.4 s\n"
     ]
    }
   ],
   "source": [
    "%%time\n",
    "# concatenating the item desc features with the original dataset\n",
    "print(clean_data_v3.shape)\n",
    "clean_data_v4 = pd.concat([clean_data_v3, x_tfidf], axis=1).drop(columns=['item_description', \n",
    "                                                                                         'stemmed_item_description'])\n",
    "print(clean_data_v4.shape)"
   ]
  },
  {
   "cell_type": "code",
   "execution_count": 24,
   "metadata": {},
   "outputs": [],
   "source": [
    "# Delete dataframes from memory\n",
    "del [[x_tfidf,item_description_df, clean_data_v3]]\n",
    "gc.collect()\n",
    "clean_data_v3 = pd.DataFrame()\n",
    "item_description_df=pd.DataFrame()\n",
    "x_tfidf=pd.DataFrame()"
   ]
  },
  {
   "cell_type": "markdown",
   "metadata": {},
   "source": [
    "### TF-IDF clean_item_name\n",
    "- Will test out different max features for the tfidf matrix"
   ]
  },
  {
   "cell_type": "code",
   "execution_count": 25,
   "metadata": {},
   "outputs": [
    {
     "data": {
      "text/plain": [
       "(1482486,)"
      ]
     },
     "execution_count": 25,
     "metadata": {},
     "output_type": "execute_result"
    }
   ],
   "source": [
    "item_name_df = clean_data_v4['clean_item_name']\n",
    "item_name_df.shape"
   ]
  },
  {
   "cell_type": "code",
   "execution_count": 26,
   "metadata": {},
   "outputs": [],
   "source": [
    "max_item_name_features = 50"
   ]
  },
  {
   "cell_type": "code",
   "execution_count": 27,
   "metadata": {},
   "outputs": [
    {
     "name": "stdout",
     "output_type": "stream",
     "text": [
      "(1482486, 50)\n"
     ]
    },
    {
     "data": {
      "text/html": [
       "<div>\n",
       "<style scoped>\n",
       "    .dataframe tbody tr th:only-of-type {\n",
       "        vertical-align: middle;\n",
       "    }\n",
       "\n",
       "    .dataframe tbody tr th {\n",
       "        vertical-align: top;\n",
       "    }\n",
       "\n",
       "    .dataframe thead th {\n",
       "        text-align: right;\n",
       "    }\n",
       "</style>\n",
       "<table border=\"1\" class=\"dataframe\">\n",
       "  <thead>\n",
       "    <tr style=\"text-align: right;\">\n",
       "      <th></th>\n",
       "      <th>item_name_0</th>\n",
       "      <th>item_name_1</th>\n",
       "      <th>item_name_2</th>\n",
       "      <th>item_name_3</th>\n",
       "      <th>item_name_4</th>\n",
       "      <th>item_name_5</th>\n",
       "      <th>item_name_6</th>\n",
       "      <th>item_name_7</th>\n",
       "      <th>item_name_8</th>\n",
       "      <th>item_name_9</th>\n",
       "      <th>...</th>\n",
       "      <th>item_name_40</th>\n",
       "      <th>item_name_41</th>\n",
       "      <th>item_name_42</th>\n",
       "      <th>item_name_43</th>\n",
       "      <th>item_name_44</th>\n",
       "      <th>item_name_45</th>\n",
       "      <th>item_name_46</th>\n",
       "      <th>item_name_47</th>\n",
       "      <th>item_name_48</th>\n",
       "      <th>item_name_49</th>\n",
       "    </tr>\n",
       "  </thead>\n",
       "  <tbody>\n",
       "    <tr>\n",
       "      <th>0</th>\n",
       "      <td>0.0</td>\n",
       "      <td>0.0</td>\n",
       "      <td>0.0</td>\n",
       "      <td>0.0</td>\n",
       "      <td>0.0</td>\n",
       "      <td>0.0</td>\n",
       "      <td>0.0</td>\n",
       "      <td>0.0</td>\n",
       "      <td>0.0</td>\n",
       "      <td>0.0</td>\n",
       "      <td>...</td>\n",
       "      <td>0.0</td>\n",
       "      <td>0.0</td>\n",
       "      <td>0.0</td>\n",
       "      <td>0.0</td>\n",
       "      <td>0.0</td>\n",
       "      <td>0.0</td>\n",
       "      <td>0.0</td>\n",
       "      <td>0.0</td>\n",
       "      <td>0.0</td>\n",
       "      <td>0.669858</td>\n",
       "    </tr>\n",
       "    <tr>\n",
       "      <th>1</th>\n",
       "      <td>0.0</td>\n",
       "      <td>0.0</td>\n",
       "      <td>0.0</td>\n",
       "      <td>0.0</td>\n",
       "      <td>0.0</td>\n",
       "      <td>0.0</td>\n",
       "      <td>0.0</td>\n",
       "      <td>0.0</td>\n",
       "      <td>0.0</td>\n",
       "      <td>0.0</td>\n",
       "      <td>...</td>\n",
       "      <td>0.0</td>\n",
       "      <td>0.0</td>\n",
       "      <td>0.0</td>\n",
       "      <td>0.0</td>\n",
       "      <td>0.0</td>\n",
       "      <td>0.0</td>\n",
       "      <td>0.0</td>\n",
       "      <td>0.0</td>\n",
       "      <td>0.0</td>\n",
       "      <td>0.000000</td>\n",
       "    </tr>\n",
       "  </tbody>\n",
       "</table>\n",
       "<p>2 rows × 50 columns</p>\n",
       "</div>"
      ],
      "text/plain": [
       "   item_name_0  item_name_1  item_name_2  item_name_3  item_name_4  \\\n",
       "0          0.0          0.0          0.0          0.0          0.0   \n",
       "1          0.0          0.0          0.0          0.0          0.0   \n",
       "\n",
       "   item_name_5  item_name_6  item_name_7  item_name_8  item_name_9  ...  \\\n",
       "0          0.0          0.0          0.0          0.0          0.0  ...   \n",
       "1          0.0          0.0          0.0          0.0          0.0  ...   \n",
       "\n",
       "   item_name_40  item_name_41  item_name_42  item_name_43  item_name_44  \\\n",
       "0           0.0           0.0           0.0           0.0           0.0   \n",
       "1           0.0           0.0           0.0           0.0           0.0   \n",
       "\n",
       "   item_name_45  item_name_46  item_name_47  item_name_48  item_name_49  \n",
       "0           0.0           0.0           0.0           0.0      0.669858  \n",
       "1           0.0           0.0           0.0           0.0      0.000000  \n",
       "\n",
       "[2 rows x 50 columns]"
      ]
     },
     "execution_count": 27,
     "metadata": {},
     "output_type": "execute_result"
    }
   ],
   "source": [
    "# getting the tfidf matrix for the item name\n",
    "tfidf = TfidfVectorizer(max_features=max_item_name_features)\n",
    "item_name_tfidf = pd.DataFrame(tfidf.fit_transform(item_name_df).toarray())\n",
    "item_name_tfidf.columns = ['item_name_' + str(col) for col in item_name_tfidf.columns]\n",
    "print(item_name_tfidf.shape)\n",
    "item_name_tfidf.head(2)"
   ]
  },
  {
   "cell_type": "code",
   "execution_count": 28,
   "metadata": {},
   "outputs": [
    {
     "name": "stdout",
     "output_type": "stream",
     "text": [
      "(1482486, 1040)\n",
      "(1482486, 1088)\n",
      "CPU times: user 5.72 s, sys: 6.36 s, total: 12.1 s\n",
      "Wall time: 13.2 s\n"
     ]
    }
   ],
   "source": [
    "%%time\n",
    "# concatenating the item name features with the original dataset\n",
    "print(clean_data_v4.shape)\n",
    "clean_data_v5 = pd.concat([clean_data_v4, item_name_tfidf], axis=1).drop(columns=['clean_item_name', \n",
    "                                                                                         'name'])\n",
    "print(clean_data_v5.shape)"
   ]
  },
  {
   "cell_type": "code",
   "execution_count": 29,
   "metadata": {},
   "outputs": [],
   "source": [
    "# Delete dataframes from memory\n",
    "del [[item_name_tfidf,item_name_df, clean_data_v4]]\n",
    "gc.collect()\n",
    "clean_data_v4 = pd.DataFrame()\n",
    "item_name_df=pd.DataFrame()\n",
    "item_name_tfidf=pd.DataFrame()"
   ]
  },
  {
   "cell_type": "markdown",
   "metadata": {},
   "source": [
    "### One hot encode item condition"
   ]
  },
  {
   "cell_type": "code",
   "execution_count": 30,
   "metadata": {},
   "outputs": [
    {
     "data": {
      "text/plain": [
       "(1482486, 1)"
      ]
     },
     "execution_count": 30,
     "metadata": {},
     "output_type": "execute_result"
    }
   ],
   "source": [
    "item_condition_df = clean_data_v5[['item_condition_id']]\n",
    "item_condition_df.shape"
   ]
  },
  {
   "cell_type": "code",
   "execution_count": 31,
   "metadata": {},
   "outputs": [
    {
     "name": "stderr",
     "output_type": "stream",
     "text": [
      "/Users/joashc/anaconda3/lib/python3.6/site-packages/ipykernel_launcher.py:2: SettingWithCopyWarning: \n",
      "A value is trying to be set on a copy of a slice from a DataFrame.\n",
      "Try using .loc[row_indexer,col_indexer] = value instead\n",
      "\n",
      "See the caveats in the documentation: http://pandas.pydata.org/pandas-docs/stable/indexing.html#indexing-view-versus-copy\n",
      "  \n"
     ]
    }
   ],
   "source": [
    "# changing the dtype of item_condition_id to object for one hot encoding\n",
    "item_condition_df['item_condition_id'] = item_condition_df['item_condition_id'].astype(object)"
   ]
  },
  {
   "cell_type": "code",
   "execution_count": 32,
   "metadata": {},
   "outputs": [
    {
     "data": {
      "text/plain": [
       "(1482486, 5)"
      ]
     },
     "execution_count": 32,
     "metadata": {},
     "output_type": "execute_result"
    }
   ],
   "source": [
    "# one-hot encoding item condition\n",
    "item_condition_df_v2 = pd.get_dummies(item_condition_df)\n",
    "item_condition_df_v2.shape"
   ]
  },
  {
   "cell_type": "code",
   "execution_count": 33,
   "metadata": {},
   "outputs": [
    {
     "name": "stdout",
     "output_type": "stream",
     "text": [
      "(1482486, 1088)\n",
      "(1482486, 1093)\n",
      "CPU times: user 1.2 s, sys: 1.07 s, total: 2.27 s\n",
      "Wall time: 2.28 s\n"
     ]
    }
   ],
   "source": [
    "%%time\n",
    "# concatenating one-hot encoded item condition columns with original dataset\n",
    "print(clean_data_v5.shape)\n",
    "clean_data_v6 = pd.concat([clean_data_v5, item_condition_df_v2], axis=1)\n",
    "print(clean_data_v6.shape)"
   ]
  },
  {
   "cell_type": "code",
   "execution_count": 34,
   "metadata": {},
   "outputs": [],
   "source": [
    "# Delete dataframes from memory\n",
    "del [[item_condition_df,item_condition_df_v2, clean_data_v5]]\n",
    "gc.collect()\n",
    "clean_data_v5 = pd.DataFrame()\n",
    "item_condition_df_v2=pd.DataFrame()\n",
    "item_condition_df=pd.DataFrame()"
   ]
  },
  {
   "cell_type": "markdown",
   "metadata": {},
   "source": [
    "### Shipping\n",
    "- Change value of 0 to -1 because 0 means there is no numerical relationship which is not true in this case"
   ]
  },
  {
   "cell_type": "code",
   "execution_count": 35,
   "metadata": {},
   "outputs": [],
   "source": [
    "clean_data_v6['shipping'] = clean_data_v6['shipping'].replace([0], [-1])"
   ]
  },
  {
   "cell_type": "markdown",
   "metadata": {},
   "source": [
    "### Drop Unwanted Columns"
   ]
  },
  {
   "cell_type": "code",
   "execution_count": 36,
   "metadata": {},
   "outputs": [
    {
     "data": {
      "text/plain": [
       "(1482486, 1088)"
      ]
     },
     "execution_count": 36,
     "metadata": {},
     "output_type": "execute_result"
    }
   ],
   "source": [
    "clean_data_v6 = clean_data_v6.drop(columns=[ 'item_condition_id', \n",
    "                                                            'category_name', 'clean_category_name', \n",
    "                                                            'assigned_category',\n",
    "                                                           'assigned_sub_category'])\n",
    "clean_data_v6.shape"
   ]
  },
  {
   "cell_type": "markdown",
   "metadata": {},
   "source": [
    "## DS Model\n",
    "- I will use neural networks (NN) to model this data. I personally would use Boosting as it would take less time to train and give similar results to NN, however, I want to gain experience with NN and training models on AWS (using GPU).\n",
    "\n",
    "## Model Implementation\n",
    "- Split the dataset into train, validation and test sets\n",
    "- Scale the data using the min-max-scaler\n",
    "- Train various models via NN and pick the best one as your final model"
   ]
  },
  {
   "cell_type": "code",
   "execution_count": 37,
   "metadata": {
    "scrolled": true
   },
   "outputs": [
    {
     "name": "stdout",
     "output_type": "stream",
     "text": [
      "Number of rows in train and validation data: 1260113 (1260113, 1)\n",
      "Number of rows in test data: 222373 (222373, 1)\n"
     ]
    }
   ],
   "source": [
    "X_train, X_test, y_train, y_test = train_test_split(clean_data_v6.drop(columns=['price']).reset_index(drop=True), \n",
    "                                                    clean_data_v6[['price']].reset_index(drop=True), \n",
    "                                                                  test_size=0.15, random_state=42)\n",
    "X_train = X_train.reset_index(drop=True)\n",
    "y_train = y_train.reset_index(drop=True)\n",
    "print('Number of rows in train and validation data:', X_train.shape[0], y_train.shape)\n",
    "print('Number of rows in test data:', X_test.shape[0], y_test.shape)"
   ]
  },
  {
   "cell_type": "code",
   "execution_count": 38,
   "metadata": {},
   "outputs": [],
   "source": [
    "# del variable from memory\n",
    "del [[clean_data_v6]]\n",
    "gc.collect()\n",
    "clean_data_v6 = pd.DataFrame()"
   ]
  },
  {
   "cell_type": "code",
   "execution_count": 39,
   "metadata": {},
   "outputs": [
    {
     "name": "stderr",
     "output_type": "stream",
     "text": [
      "/Users/joashc/anaconda3/lib/python3.6/site-packages/sklearn/preprocessing/data.py:323: DataConversionWarning: Data with input dtype uint8, int64, float64 were all converted to float64 by MinMaxScaler.\n",
      "  return self.partial_fit(X, y)\n"
     ]
    },
    {
     "name": "stdout",
     "output_type": "stream",
     "text": [
      "MinMaxScaler Complete\n"
     ]
    }
   ],
   "source": [
    "scaler = MinMaxScaler(feature_range=(0, 1))\n",
    "columns = X_train.columns\n",
    "X_train = pd.DataFrame(scaler.fit_transform(X_train), columns=columns)\n",
    "print('MinMaxScaler Complete')"
   ]
  },
  {
   "cell_type": "code",
   "execution_count": 40,
   "metadata": {},
   "outputs": [
    {
     "name": "stdout",
     "output_type": "stream",
     "text": [
      "Number of rows in train and validation data: 1071096 (1071096, 1)\n",
      "Number of rows in validation data: 189017 (189017, 1)\n"
     ]
    }
   ],
   "source": [
    "# Split the data into train and vaidation sets\n",
    "X_train, X_val, y_train, y_val = train_test_split(X_train.reset_index(drop=True), \n",
    "                                                    y_train.reset_index(drop=True), \n",
    "                                                                  test_size=0.15, random_state=42)\n",
    "print('Number of rows in train and validation data:', X_train.shape[0], y_train.shape)\n",
    "print('Number of rows in validation data:', X_val.shape[0], y_val.shape)"
   ]
  },
  {
   "cell_type": "code",
   "execution_count": 41,
   "metadata": {},
   "outputs": [],
   "source": [
    "# this method is to decay the learning rate after a certain number of epochs\n",
    "def step_decay(epoch):\n",
    "    initial_lrate = 0.002\n",
    "    drop = 0.5\n",
    "    epochs_drop = 20\n",
    "    lrate = initial_lrate * math.pow(drop,\n",
    "    math.floor((1+epoch)/epochs_drop))\n",
    "    return lrate"
   ]
  },
  {
   "cell_type": "markdown",
   "metadata": {},
   "source": [
    "Below is the NN implementation code. I tested this code locally for 1 epoch (due to the size of the data). Thereafter, I tried and trained 7 different models which will be displayed in the \"NN Trials\" section of the notebook. I chose trial 4 as my best model. I will train trial 4 NN with 6 epochs. "
   ]
  },
  {
   "cell_type": "code",
   "execution_count": 42,
   "metadata": {},
   "outputs": [
    {
     "name": "stdout",
     "output_type": "stream",
     "text": [
      "Train on 1071096 samples, validate on 189017 samples\n",
      "Epoch 1/10\n",
      "1071096/1071096 [==============================] - 227s 212us/step - loss: 1483.4998 - mean_squared_logarithmic_error: 3.4472 - val_loss: 947.7697 - val_mean_squared_logarithmic_error: 0.3586\n",
      "Epoch 2/10\n",
      "1071096/1071096 [==============================] - 221s 207us/step - loss: 1005.3830 - mean_squared_logarithmic_error: 0.4842 - val_loss: 901.1581 - val_mean_squared_logarithmic_error: 0.3070\n",
      "Epoch 3/10\n",
      "1071096/1071096 [==============================] - 222s 207us/step - loss: 968.5367 - mean_squared_logarithmic_error: 0.4061 - val_loss: 876.5643 - val_mean_squared_logarithmic_error: 0.3138\n",
      "Epoch 4/10\n",
      "1071096/1071096 [==============================] - 223s 209us/step - loss: 942.9461 - mean_squared_logarithmic_error: 0.3816 - val_loss: 876.8483 - val_mean_squared_logarithmic_error: 0.3089\n",
      "Epoch 5/10\n",
      "1071096/1071096 [==============================] - 225s 210us/step - loss: 922.5994 - mean_squared_logarithmic_error: 0.3697 - val_loss: 862.1924 - val_mean_squared_logarithmic_error: 0.3081\n",
      "Epoch 6/10\n",
      "1071096/1071096 [==============================] - 226s 211us/step - loss: 914.9364 - mean_squared_logarithmic_error: 0.3639 - val_loss: 860.9994 - val_mean_squared_logarithmic_error: 0.3127\n",
      "Epoch 7/10\n",
      "1071096/1071096 [==============================] - 238s 222us/step - loss: 886.1738 - mean_squared_logarithmic_error: 0.3601 - val_loss: 848.6435 - val_mean_squared_logarithmic_error: 0.3127\n",
      "Epoch 8/10\n",
      "1071096/1071096 [==============================] - 227s 212us/step - loss: 873.9894 - mean_squared_logarithmic_error: 0.3565 - val_loss: 865.6164 - val_mean_squared_logarithmic_error: 0.3140\n",
      "Epoch 9/10\n",
      "1071096/1071096 [==============================] - 229s 214us/step - loss: 865.9897 - mean_squared_logarithmic_error: 0.3535 - val_loss: 857.9152 - val_mean_squared_logarithmic_error: 0.3122\n",
      "Epoch 10/10\n",
      "1071096/1071096 [==============================] - 250s 234us/step - loss: 851.0422 - mean_squared_logarithmic_error: 0.3515 - val_loss: 857.1284 - val_mean_squared_logarithmic_error: 0.3096\n"
     ]
    }
   ],
   "source": [
    "# NN implementation\n",
    "num_epochs = 10\n",
    "batch_size = 2103\n",
    "\n",
    "all_val_predictions = pd.DataFrame()\n",
    "\n",
    "train_val_rmsle = []\n",
    "\n",
    "model = Sequential()\n",
    "model.add(Dense(1024, activation='relu', input_dim=X_train.shape[1]))\n",
    "model.add(BatchNormalization())\n",
    "model.add(Dropout(0.5))\n",
    "\n",
    "model.add(Dense(512, activation='relu', input_dim=X_train.shape[1]))\n",
    "model.add(BatchNormalization())\n",
    "model.add(Dropout(0.5))\n",
    "\n",
    "model.add(Dense(264, activation='relu'))\n",
    "model.add(BatchNormalization())\n",
    "model.add(Dropout(0.5))\n",
    "\n",
    "model.add(Dense(128, activation='relu'))\n",
    "model.add(BatchNormalization())\n",
    "model.add(Dropout(0.5))\n",
    "\n",
    "model.add(Dense(64, activation='relu'))\n",
    "model.add(BatchNormalization())\n",
    "model.add(Dropout(0.5))\n",
    "\n",
    "model.add(Dense(1))\n",
    "\n",
    "model.compile(loss='mean_squared_error', optimizer='adam', metrics=['mean_squared_logarithmic_error'])\n",
    "\n",
    "lrate = LearningRateScheduler(step_decay)\n",
    "\n",
    "model_hist = model.fit(X_train, y_train, validation_data=(X_val,y_val), \n",
    "                       batch_size=batch_size, epochs=num_epochs, verbose=1)"
   ]
  },
  {
   "cell_type": "code",
   "execution_count": 46,
   "metadata": {},
   "outputs": [
    {
     "data": {
      "text/plain": [
       "<matplotlib.legend.Legend at 0x13092bef0>"
      ]
     },
     "execution_count": 46,
     "metadata": {},
     "output_type": "execute_result"
    },
    {
     "data": {
      "image/png": "[encoded data removed]",
      "text/plain": [
       "<Figure size 432x288 with 1 Axes>"
      ]
     },
     "metadata": {},
     "output_type": "display_data"
    }
   ],
   "source": [
    "loss_df = pd.DataFrame(model_hist.history)\n",
    "\n",
    "plt.plot(loss_df.index+1, loss_df.loss, label='Train Loss')\n",
    "plt.plot(loss_df.index+1, loss_df.val_loss, label='Validation Loss')\n",
    "plt.title('Epoch vs Train and Validtion Loss')\n",
    "plt.xlabel('Epoch')\n",
    "plt.ylabel('Train/Validation Loss')\n",
    "plt.legend()"
   ]
  },
  {
   "cell_type": "code",
   "execution_count": 43,
   "metadata": {},
   "outputs": [
    {
     "name": "stdout",
     "output_type": "stream",
     "text": [
      "Train rmse is: 26.69698880472282\n",
      "Validation rmse is: 29.276754956750143\n",
      "Test rmse is: 30.04642782553542\n"
     ]
    }
   ],
   "source": [
    "# print out model rmse!\n",
    "print('Train rmse is:', np.sqrt(mean_squared_error(y_train,model.predict(X_train))))\n",
    "\n",
    "print('Validation rmse is:', np.sqrt(mean_squared_error(y_val,model.predict(X_val))))\n",
    "\n",
    "print('Test rmse is:', np.sqrt(mean_squared_error(y_test,model.predict(scaler.transform(X_test)))))"
   ]
  },
  {
   "cell_type": "code",
   "execution_count": 44,
   "metadata": {},
   "outputs": [
    {
     "name": "stderr",
     "output_type": "stream",
     "text": [
      "/Users/joashc/anaconda3/lib/python3.6/site-packages/ipykernel_launcher.py:4: RuntimeWarning: invalid value encountered in log\n",
      "  after removing the cwd from sys.path.\n"
     ]
    },
    {
     "name": "stdout",
     "output_type": "stream",
     "text": [
      "Train rmsle is: price    0.542516\n",
      "dtype: float64\n",
      "Validation rmsle is: price    0.556435\n",
      "dtype: float64\n",
      "Test rmsle is: price    0.555905\n",
      "dtype: float64\n"
     ]
    }
   ],
   "source": [
    "# print model rmsle\n",
    "print('Train rmsle is:', rmsle(y_train,model.predict(X_train)))\n",
    "\n",
    "print('Validation rmsle is:', rmsle(y_val,model.predict(X_val)))\n",
    "\n",
    "print('Test rmsle is:', rmsle(y_test,model.predict(scaler.transform(X_test))))"
   ]
  },
  {
   "cell_type": "code",
   "execution_count": 133,
   "metadata": {},
   "outputs": [
    {
     "name": "stdout",
     "output_type": "stream",
     "text": [
      "Saved model to disk\n"
     ]
    }
   ],
   "source": [
    "## serialize model to YAML\n",
    "model_yaml = model.to_yaml()\n",
    "with open(\"model.yaml\", \"w\") as yaml_file:\n",
    "    yaml_file.write(model_yaml)\n",
    "# serialize weights to HDF5\n",
    "model.save_weights(\"trial_4.h5\")\n",
    "print(\"Saved model to disk\")"
   ]
  },
  {
   "cell_type": "markdown",
   "metadata": {},
   "source": [
    "## NN Trials"
   ]
  },
  {
   "cell_type": "markdown",
   "metadata": {},
   "source": [
    "### Trial 1\n",
    "- learning rate (lr): 0.01\n",
    "- num_epochs = 30\n",
    "- batch_size = 1958\n",
    "- item desc: **500** (max features for tf-idf is 500)\n",
    "- item name: **100** (max features for tf-idf is 100)\n",
    "- brand frequency: **500** (only one-hot encode brands that appear more than 500 times)\n",
    "- test/train split: 0.2 (20% split)\n",
    "- test/val split: 0.2 (20% split)"
   ]
  },
  {
   "cell_type": "code",
   "execution_count": 44,
   "metadata": {},
   "outputs": [
    {
     "name": "stdout",
     "output_type": "stream",
     "text": [
      "_________________________________________________________________\n",
      "Layer (type)                 Output Shape              Param #   \n",
      "=================================================================\n",
      "dense_1 (Dense)              (None, 512)               406528    \n",
      "_________________________________________________________________\n",
      "batch_normalization_1 (Batch (None, 512)               2048      \n",
      "_________________________________________________________________\n",
      "dense_2 (Dense)              (None, 264)               135432    \n",
      "_________________________________________________________________\n",
      "batch_normalization_2 (Batch (None, 264)               1056      \n",
      "_________________________________________________________________\n",
      "dense_3 (Dense)              (None, 128)               33920     \n",
      "_________________________________________________________________\n",
      "batch_normalization_3 (Batch (None, 128)               512       \n",
      "_________________________________________________________________\n",
      "dense_4 (Dense)              (None, 1)                 129       \n",
      "=================================================================\n",
      "Total params: 579,625\n",
      "Trainable params: 577,817\n",
      "Non-trainable params: 1,808\n",
      "_________________________________________________________________\n"
     ]
    }
   ],
   "source": [
    "model = Sequential()\n",
    "model.add(Dense(512, activation='relu', input_dim=X_train.shape[1]))\n",
    "model.add(BatchNormalization())\n",
    "model.add(Dense(264, activation='relu'))\n",
    "model.add(BatchNormalization())\n",
    "model.add(Dense(128, activation='relu'))\n",
    "model.add(BatchNormalization())\n",
    "model.add(Dense(1))\n",
    "model.compile(loss='mean_squared_error', optimizer='adam', metrics=['mean_squared_error'])\n",
    "model.summary()"
   ]
  },
  {
   "cell_type": "markdown",
   "metadata": {},
   "source": [
    "### Trial 1 Results\n",
    "- Simpler architecture withouto dropouts and only 3 layers\n",
    "- By **epoch 7** got are train and val mse of **788 and 1011**\n",
    "- There is definitely overfitting with the data\n",
    "- Did not let the model complete training due to overfitting"
   ]
  },
  {
   "cell_type": "markdown",
   "metadata": {},
   "source": [
    "### Trial 2\n",
    "- learning rate (lr): 0.01\n",
    "- num_epochs: 10\n",
    "- batch_size: 1201\n",
    "- item desc: **500**\n",
    "- item name: **100**\n",
    "- brand frequency: **500**\n",
    "- test/train split: 0.2 (20% split)\n",
    "- test/val split: 0.2 (20% split)\n",
    "\n",
    "Added dropouts to the model architecture to prevent the overfitting of the model on the train data"
   ]
  },
  {
   "cell_type": "code",
   "execution_count": 68,
   "metadata": {},
   "outputs": [
    {
     "name": "stdout",
     "output_type": "stream",
     "text": [
      "_________________________________________________________________\n",
      "Layer (type)                 Output Shape              Param #   \n",
      "=================================================================\n",
      "dense_10 (Dense)             (None, 512)               406528    \n",
      "_________________________________________________________________\n",
      "batch_normalization_8 (Batch (None, 512)               2048      \n",
      "_________________________________________________________________\n",
      "dropout_5 (Dropout)          (None, 512)               0         \n",
      "_________________________________________________________________\n",
      "dense_11 (Dense)             (None, 264)               135432    \n",
      "_________________________________________________________________\n",
      "batch_normalization_9 (Batch (None, 264)               1056      \n",
      "_________________________________________________________________\n",
      "dropout_6 (Dropout)          (None, 264)               0         \n",
      "_________________________________________________________________\n",
      "dense_12 (Dense)             (None, 128)               33920     \n",
      "_________________________________________________________________\n",
      "batch_normalization_10 (Batc (None, 128)               512       \n",
      "_________________________________________________________________\n",
      "dropout_7 (Dropout)          (None, 128)               0         \n",
      "_________________________________________________________________\n",
      "dense_13 (Dense)             (None, 64)                8256      \n",
      "_________________________________________________________________\n",
      "batch_normalization_11 (Batc (None, 64)                256       \n",
      "_________________________________________________________________\n",
      "dropout_8 (Dropout)          (None, 64)                0         \n",
      "_________________________________________________________________\n",
      "dense_14 (Dense)             (None, 1)                 65        \n",
      "=================================================================\n",
      "Total params: 588,073\n",
      "Trainable params: 586,137\n",
      "Non-trainable params: 1,936\n",
      "_________________________________________________________________\n"
     ]
    },
    {
     "data": {
      "text/plain": [
       "<matplotlib.legend.Legend at 0x130cfcf60>"
      ]
     },
     "execution_count": 68,
     "metadata": {},
     "output_type": "execute_result"
    },
    {
     "data": {
      "image/png": "[encoded data removed]",
      "text/plain": [
       "<Figure size 432x288 with 1 Axes>"
      ]
     },
     "metadata": {},
     "output_type": "display_data"
    }
   ],
   "source": [
    "model = Sequential()\n",
    "model.add(Dense(512, activation='relu', input_dim=X_train.shape[1]))\n",
    "model.add(BatchNormalization())\n",
    "model.add(Dropout(0.5))\n",
    "\n",
    "model.add(Dense(264, activation='relu'))\n",
    "model.add(BatchNormalization())\n",
    "model.add(Dropout(0.5))\n",
    "\n",
    "model.add(Dense(128, activation='relu'))\n",
    "model.add(BatchNormalization())\n",
    "model.add(Dropout(0.5))\n",
    "\n",
    "model.add(Dense(64, activation='relu'))\n",
    "model.add(BatchNormalization())\n",
    "model.add(Dropout(0.5))\n",
    "\n",
    "model.add(Dense(1))\n",
    "\n",
    "model.compile(loss='mean_squared_error', optimizer='adam')\n",
    "\n",
    "model.summary()\n",
    "\n",
    "loss_dict = {'val_loss': \n",
    "             [966.1777982802738, 923.2987540033276, 910.6167190149442, 900.7386665006188, \n",
    "              899.6558118729856, 890.0330886337122, 888.9407532112936, 880.5596371782096, \n",
    "              901.4239693127035, 895.6790476066067], \n",
    "             'loss': [1307.2278784643245, 950.0663086323799, 908.8625140612638, 873.2989976327631,\n",
    "                      850.6475863299793, 820.6866712352897, 803.5523838477799, 780.234757358213, \n",
    "                      765.7939360799669, 746.6974637961085]\n",
    "            }\n",
    "loss_df_2 = pd.DataFrame(loss_dict)\n",
    "\n",
    "plt.plot(loss_df_2.index+1, loss_df_2.loss, label='Train Loss')\n",
    "plt.plot(loss_df_2.index+1, loss_df_2.val_loss, label='Validation Loss')\n",
    "plt.title('Epoch vs Train and Validtion Loss')\n",
    "plt.xlabel('Epoch')\n",
    "plt.ylabel('Train/Validation Loss')\n",
    "plt.legend()"
   ]
  },
  {
   "cell_type": "markdown",
   "metadata": {},
   "source": [
    "### Trial 2 Results\n",
    "- Train RMSE: **24 **\n",
    "- Validation RMSE: **29.93**\n",
    "- Test RMSE: **30.19**\n",
    "- It is evident that the model begins overfitting the train data around epoch 5.\n",
    "- Will increase the size of the training data and add another hidden layer to test if this reduces the overfitting problem"
   ]
  },
  {
   "cell_type": "markdown",
   "metadata": {},
   "source": [
    "### Trial 3\n",
    "- learning rate (lr): 0.01\n",
    "- num_epochs: 10\n",
    "- batch_size: 1201\n",
    "- item desc: 500\n",
    "- item name: 100\n",
    "- brand frequency: 500\n",
    "- test/train split: 0.15\n",
    "- test/val split: 0.15\n",
    "\n",
    "Added another hidden layer and increases size of training data to prevent overfitting"
   ]
  },
  {
   "cell_type": "code",
   "execution_count": 70,
   "metadata": {},
   "outputs": [
    {
     "name": "stdout",
     "output_type": "stream",
     "text": [
      "_________________________________________________________________\n",
      "Layer (type)                 Output Shape              Param #   \n",
      "=================================================================\n",
      "dense_21 (Dense)             (None, 1024)              813056    \n",
      "_________________________________________________________________\n",
      "batch_normalization_17 (Batc (None, 1024)              4096      \n",
      "_________________________________________________________________\n",
      "dropout_14 (Dropout)         (None, 1024)              0         \n",
      "_________________________________________________________________\n",
      "dense_22 (Dense)             (None, 512)               524800    \n",
      "_________________________________________________________________\n",
      "batch_normalization_18 (Batc (None, 512)               2048      \n",
      "_________________________________________________________________\n",
      "dropout_15 (Dropout)         (None, 512)               0         \n",
      "_________________________________________________________________\n",
      "dense_23 (Dense)             (None, 264)               135432    \n",
      "_________________________________________________________________\n",
      "batch_normalization_19 (Batc (None, 264)               1056      \n",
      "_________________________________________________________________\n",
      "dropout_16 (Dropout)         (None, 264)               0         \n",
      "_________________________________________________________________\n",
      "dense_24 (Dense)             (None, 128)               33920     \n",
      "_________________________________________________________________\n",
      "batch_normalization_20 (Batc (None, 128)               512       \n",
      "_________________________________________________________________\n",
      "dropout_17 (Dropout)         (None, 128)               0         \n",
      "_________________________________________________________________\n",
      "dense_25 (Dense)             (None, 64)                8256      \n",
      "_________________________________________________________________\n",
      "batch_normalization_21 (Batc (None, 64)                256       \n",
      "_________________________________________________________________\n",
      "dropout_18 (Dropout)         (None, 64)                0         \n",
      "_________________________________________________________________\n",
      "dense_26 (Dense)             (None, 1)                 65        \n",
      "=================================================================\n",
      "Total params: 1,523,497\n",
      "Trainable params: 1,519,513\n",
      "Non-trainable params: 3,984\n",
      "_________________________________________________________________\n"
     ]
    },
    {
     "data": {
      "text/plain": [
       "<matplotlib.legend.Legend at 0x12db62cf8>"
      ]
     },
     "execution_count": 70,
     "metadata": {},
     "output_type": "execute_result"
    },
    {
     "data": {
      "image/png": "[encoded data removed]",
      "text/plain": [
       "<Figure size 432x288 with 1 Axes>"
      ]
     },
     "metadata": {},
     "output_type": "display_data"
    }
   ],
   "source": [
    "model = Sequential()\n",
    "model.add(Dense(1024, activation='relu', input_dim=X_train.shape[1]))\n",
    "model.add(BatchNormalization())\n",
    "model.add(Dropout(0.5))\n",
    "\n",
    "model.add(Dense(512, activation='relu', input_dim=X_train.shape[1]))\n",
    "model.add(BatchNormalization())\n",
    "model.add(Dropout(0.5))\n",
    "\n",
    "model.add(Dense(264, activation='relu'))\n",
    "model.add(BatchNormalization())\n",
    "model.add(Dropout(0.5))\n",
    "\n",
    "model.add(Dense(128, activation='relu'))\n",
    "model.add(BatchNormalization())\n",
    "model.add(Dropout(0.5))\n",
    "\n",
    "model.add(Dense(64, activation='relu'))\n",
    "model.add(BatchNormalization())\n",
    "model.add(Dropout(0.5))\n",
    "\n",
    "model.add(Dense(1))\n",
    "model.summary()\n",
    "\n",
    "loss_dict_3 = {'val_loss': [893.9534322359361, 841.067386748752, 818.4087141964712, 809.4169764956102, \n",
    "                            834.2768080661359, 803.5231950861271, 804.1527677665265, 821.0994145126018, \n",
    "                            805.4967043422906, 795.0388555763315], \n",
    "               'loss': [1292.4868833472963, 960.9122608191396, 913.3295550593649, 880.9264346034723, \n",
    "                        851.8584188117563, 821.1068513949689, 801.3444464967874, 776.073875642645, \n",
    "                        748.6214976337192, 737.14988974773]}\n",
    "loss_df_3 = pd.DataFrame(loss_dict_3)\n",
    "\n",
    "plt.plot(loss_df_3.index+1, loss_df_3.loss, label='Train Loss')\n",
    "plt.plot(loss_df_3.index+1, loss_df_3.val_loss, label='Validation Loss')\n",
    "plt.title('Epoch vs Train and Validtion Loss')\n",
    "plt.xlabel('Epoch')\n",
    "plt.ylabel('Train/Validation Loss')\n",
    "plt.legend()"
   ]
  },
  {
   "cell_type": "markdown",
   "metadata": {},
   "source": [
    "### Trial 3 Results\n",
    "- Train RMSE: **23.64**\n",
    "- Validation RMSE: N/A\n",
    "- Test RMSE: N/A\n",
    "- Validation loss is less than training loss in the beginning until epoch 7. Thereafter, the model begins overfitting slightly again.\n",
    "- This model does well until it begins overfitting around the 9th epoch. \n",
    "- For the next trail, I will lower the learning rate and increase the number of item desc features (give more data)"
   ]
  },
  {
   "cell_type": "markdown",
   "metadata": {},
   "source": [
    "### Trial 4\n",
    "- learning rate (lr): 0.002\n",
    "- num_epochs: 10\n",
    "- batch_size: 2213\n",
    "- item desc: 800\n",
    "- item name: 100\n",
    "- brand frequency: 500\n",
    "- test/train split: 0.15\n",
    "- test/val split: 0.15\n",
    "\n",
    "Increase item description max features from 500 to 800 and reduced learning rate from 0.01 to 0.002"
   ]
  },
  {
   "cell_type": "code",
   "execution_count": 72,
   "metadata": {},
   "outputs": [
    {
     "name": "stdout",
     "output_type": "stream",
     "text": [
      "_________________________________________________________________\n",
      "Layer (type)                 Output Shape              Param #   \n",
      "=================================================================\n",
      "dense_33 (Dense)             (None, 1024)              813056    \n",
      "_________________________________________________________________\n",
      "batch_normalization_27 (Batc (None, 1024)              4096      \n",
      "_________________________________________________________________\n",
      "dropout_24 (Dropout)         (None, 1024)              0         \n",
      "_________________________________________________________________\n",
      "dense_34 (Dense)             (None, 512)               524800    \n",
      "_________________________________________________________________\n",
      "batch_normalization_28 (Batc (None, 512)               2048      \n",
      "_________________________________________________________________\n",
      "dropout_25 (Dropout)         (None, 512)               0         \n",
      "_________________________________________________________________\n",
      "dense_35 (Dense)             (None, 264)               135432    \n",
      "_________________________________________________________________\n",
      "batch_normalization_29 (Batc (None, 264)               1056      \n",
      "_________________________________________________________________\n",
      "dropout_26 (Dropout)         (None, 264)               0         \n",
      "_________________________________________________________________\n",
      "dense_36 (Dense)             (None, 128)               33920     \n",
      "_________________________________________________________________\n",
      "batch_normalization_30 (Batc (None, 128)               512       \n",
      "_________________________________________________________________\n",
      "dropout_27 (Dropout)         (None, 128)               0         \n",
      "_________________________________________________________________\n",
      "dense_37 (Dense)             (None, 64)                8256      \n",
      "_________________________________________________________________\n",
      "batch_normalization_31 (Batc (None, 64)                256       \n",
      "_________________________________________________________________\n",
      "dropout_28 (Dropout)         (None, 64)                0         \n",
      "_________________________________________________________________\n",
      "dense_38 (Dense)             (None, 1)                 65        \n",
      "=================================================================\n",
      "Total params: 1,523,497\n",
      "Trainable params: 1,519,513\n",
      "Non-trainable params: 3,984\n",
      "_________________________________________________________________\n"
     ]
    },
    {
     "data": {
      "text/plain": [
       "<matplotlib.legend.Legend at 0x136a19a20>"
      ]
     },
     "execution_count": 72,
     "metadata": {},
     "output_type": "execute_result"
    },
    {
     "data": {
      "image/png": "[encoded data removed]",
      "text/plain": [
       "<Figure size 432x288 with 1 Axes>"
      ]
     },
     "metadata": {},
     "output_type": "display_data"
    }
   ],
   "source": [
    "model = Sequential()\n",
    "model.add(Dense(1024, activation='relu', input_dim=X_train.shape[1]))\n",
    "model.add(BatchNormalization())\n",
    "model.add(Dropout(0.5))\n",
    "\n",
    "model.add(Dense(512, activation='relu', input_dim=X_train.shape[1]))\n",
    "model.add(BatchNormalization())\n",
    "model.add(Dropout(0.5))\n",
    "\n",
    "model.add(Dense(264, activation='relu'))\n",
    "model.add(BatchNormalization())\n",
    "model.add(Dropout(0.5))\n",
    "\n",
    "model.add(Dense(128, activation='relu'))\n",
    "model.add(BatchNormalization())\n",
    "model.add(Dropout(0.5))\n",
    "\n",
    "model.add(Dense(64, activation='relu'))\n",
    "model.add(BatchNormalization())\n",
    "model.add(Dropout(0.5))\n",
    "\n",
    "model.add(Dense(1))\n",
    "model.summary()\n",
    "\n",
    "loss_dict_4 = {'val_loss': [906.4580717346178, 835.6651374563694, 813.2003856181778, 806.1938992032306, \n",
    "                            808.3237570014784, 798.6526052884393, 806.605135044787, 809.7007012279332, \n",
    "                            804.5712916554536, 812.387696434122], \n",
    "               'loss': [1467.4912353531922, 962.8633080093233, 894.1208327768919, 859.3493277620055, \n",
    "                        813.3187347186795, 780.7855090206166, 750.9078773969164, 721.9841835724127, \n",
    "                        706.3253258693578, 677.1003780915596]}\n",
    "loss_df_4 = pd.DataFrame(loss_dict_4)\n",
    "\n",
    "plt.plot(loss_df_4.index+1, loss_df_4.loss, label='Train Loss')\n",
    "plt.plot(loss_df_4.index+1, loss_df_4.val_loss, label='Validation Loss')\n",
    "plt.title('Epoch vs Train and Validtion Loss')\n",
    "plt.xlabel('Epoch')\n",
    "plt.ylabel('Train/Validation Loss')\n",
    "plt.legend()"
   ]
  },
  {
   "cell_type": "markdown",
   "metadata": {},
   "source": [
    "### Trial 4 Results\n",
    "- Train RMSE: **23.01**\n",
    "- Validation RMSE: **29.03**\n",
    "- Test RMSE: **29.34**\n",
    "- Same result as trail 3, model is overfitting\n",
    "- Since brand name seems to have more of an effect on the price of an item, I will increase the number of brand names OHE"
   ]
  },
  {
   "cell_type": "markdown",
   "metadata": {},
   "source": [
    "### Trial 5\n",
    "- learning rate (lr): 0.002\n",
    "- num_epochs: 10\n",
    "- batch_size: 2103\n",
    "- item desc: **100**\n",
    "- item name: **50**\n",
    "- brand frequency: **50**\n",
    "- test/train split: 0.15\n",
    "- test/val split: 0.15\n",
    "\n",
    "Reduced the number of item description max features from 800 to 50 and increased the number of brand names OHE"
   ]
  },
  {
   "cell_type": "code",
   "execution_count": 74,
   "metadata": {},
   "outputs": [
    {
     "name": "stdout",
     "output_type": "stream",
     "text": [
      "_________________________________________________________________\n",
      "Layer (type)                 Output Shape              Param #   \n",
      "=================================================================\n",
      "dense_45 (Dense)             (None, 1024)              813056    \n",
      "_________________________________________________________________\n",
      "batch_normalization_37 (Batc (None, 1024)              4096      \n",
      "_________________________________________________________________\n",
      "dropout_34 (Dropout)         (None, 1024)              0         \n",
      "_________________________________________________________________\n",
      "dense_46 (Dense)             (None, 512)               524800    \n",
      "_________________________________________________________________\n",
      "batch_normalization_38 (Batc (None, 512)               2048      \n",
      "_________________________________________________________________\n",
      "dropout_35 (Dropout)         (None, 512)               0         \n",
      "_________________________________________________________________\n",
      "dense_47 (Dense)             (None, 264)               135432    \n",
      "_________________________________________________________________\n",
      "batch_normalization_39 (Batc (None, 264)               1056      \n",
      "_________________________________________________________________\n",
      "dropout_36 (Dropout)         (None, 264)               0         \n",
      "_________________________________________________________________\n",
      "dense_48 (Dense)             (None, 128)               33920     \n",
      "_________________________________________________________________\n",
      "batch_normalization_40 (Batc (None, 128)               512       \n",
      "_________________________________________________________________\n",
      "dropout_37 (Dropout)         (None, 128)               0         \n",
      "_________________________________________________________________\n",
      "dense_49 (Dense)             (None, 64)                8256      \n",
      "_________________________________________________________________\n",
      "batch_normalization_41 (Batc (None, 64)                256       \n",
      "_________________________________________________________________\n",
      "dropout_38 (Dropout)         (None, 64)                0         \n",
      "_________________________________________________________________\n",
      "dense_50 (Dense)             (None, 1)                 65        \n",
      "=================================================================\n",
      "Total params: 1,523,497\n",
      "Trainable params: 1,519,513\n",
      "Non-trainable params: 3,984\n",
      "_________________________________________________________________\n"
     ]
    },
    {
     "data": {
      "text/plain": [
       "<matplotlib.legend.Legend at 0x134564860>"
      ]
     },
     "execution_count": 74,
     "metadata": {},
     "output_type": "execute_result"
    },
    {
     "data": {
      "image/png": "[encoded data removed]",
      "text/plain": [
       "<Figure size 432x288 with 1 Axes>"
      ]
     },
     "metadata": {},
     "output_type": "display_data"
    }
   ],
   "source": [
    "model = Sequential()\n",
    "model.add(Dense(1024, activation='relu', input_dim=X_train.shape[1]))\n",
    "model.add(BatchNormalization())\n",
    "model.add(Dropout(0.5))\n",
    "\n",
    "model.add(Dense(512, activation='relu', input_dim=X_train.shape[1]))\n",
    "model.add(BatchNormalization())\n",
    "model.add(Dropout(0.5))\n",
    "\n",
    "model.add(Dense(264, activation='relu'))\n",
    "model.add(BatchNormalization())\n",
    "model.add(Dropout(0.5))\n",
    "\n",
    "model.add(Dense(128, activation='relu'))\n",
    "model.add(BatchNormalization())\n",
    "model.add(Dropout(0.5))\n",
    "\n",
    "model.add(Dense(64, activation='relu'))\n",
    "model.add(BatchNormalization())\n",
    "model.add(Dropout(0.5))\n",
    "\n",
    "model.add(Dense(1))\n",
    "model.summary()\n",
    "\n",
    "loss_dict_5 = {'val_loss': [1002.2089562332196, 902.7072203370219, 875.7005728521905, 866.2994180715033, \n",
    "                            863.9700487145387, 867.2800421080999, 855.0556076345993, 860.1328602809011, \n",
    "                            865.9426900054893, 859.8690775757033], \n",
    "               'loss': [1491.8377342006727, 1015.6936724313605, 967.2383519632051, 942.2625138568557, \n",
    "                        925.7084107589776, 901.9262619875876, 889.6971335113438, 874.3190762380946, \n",
    "                        859.341434463773, 852.649874532961]}\n",
    "loss_df_5 = pd.DataFrame(loss_dict_5)\n",
    "\n",
    "plt.plot(loss_df_5.index+1, loss_df_5.loss, label='Train Loss')\n",
    "plt.plot(loss_df_5.index+1, loss_df_5.val_loss, label='Validation Loss')\n",
    "plt.title('Epoch vs Train and Validtion Loss')\n",
    "plt.xlabel('Epoch')\n",
    "plt.ylabel('Train/Validation Loss')\n",
    "plt.legend()"
   ]
  },
  {
   "cell_type": "markdown",
   "metadata": {},
   "source": [
    "### Trial 5 Results\n",
    "- Train RMSE: **26.76**\n",
    "- Validation RMSE: **29.32**\n",
    "- Test RMSE: **30.15**\n",
    "- This is the best model so far as it has the least ampint of overfitting as seen in the graph above. I trained the model for 10 epochs as a start, so it would be nice to train the model with a higher number of epochs\n",
    "\n",
    "\n",
    "After doing some research, I realized that I may be mixing dense and sparse eatures together (sparse feature could be the tf-idf features and dense features could be the rest). The model may be overfitting on the dense features. To test this theory out, I derived separate NN model for the tf-idf features and one for the rest. This may give us some insight into why the model is overfitting"
   ]
  },
  {
   "cell_type": "markdown",
   "metadata": {},
   "source": [
    "### Trial 6 (Sparse Features)\n",
    "- learning rate (lr): 0.002\n",
    "- num_epochs: 10\n",
    "- batch_size: 2103\n",
    "- item desc: **1500**\n",
    "- item name: 0\n",
    "- test/train split: 0.15\n",
    "- test/val split: 0.15\n",
    "\n",
    "Reduced the number of item description max features from 800 to 50 and increased the number of brand names OHE"
   ]
  },
  {
   "cell_type": "code",
   "execution_count": 77,
   "metadata": {},
   "outputs": [
    {
     "name": "stdout",
     "output_type": "stream",
     "text": [
      "_________________________________________________________________\n",
      "Layer (type)                 Output Shape              Param #   \n",
      "=================================================================\n",
      "dense_63 (Dense)             (None, 1024)              813056    \n",
      "_________________________________________________________________\n",
      "batch_normalization_52 (Batc (None, 1024)              4096      \n",
      "_________________________________________________________________\n",
      "dropout_49 (Dropout)         (None, 1024)              0         \n",
      "_________________________________________________________________\n",
      "dense_64 (Dense)             (None, 512)               524800    \n",
      "_________________________________________________________________\n",
      "batch_normalization_53 (Batc (None, 512)               2048      \n",
      "_________________________________________________________________\n",
      "dropout_50 (Dropout)         (None, 512)               0         \n",
      "_________________________________________________________________\n",
      "dense_65 (Dense)             (None, 264)               135432    \n",
      "_________________________________________________________________\n",
      "batch_normalization_54 (Batc (None, 264)               1056      \n",
      "_________________________________________________________________\n",
      "dropout_51 (Dropout)         (None, 264)               0         \n",
      "_________________________________________________________________\n",
      "dense_66 (Dense)             (None, 128)               33920     \n",
      "_________________________________________________________________\n",
      "batch_normalization_55 (Batc (None, 128)               512       \n",
      "_________________________________________________________________\n",
      "dropout_52 (Dropout)         (None, 128)               0         \n",
      "_________________________________________________________________\n",
      "dense_67 (Dense)             (None, 64)                8256      \n",
      "_________________________________________________________________\n",
      "batch_normalization_56 (Batc (None, 64)                256       \n",
      "_________________________________________________________________\n",
      "dropout_53 (Dropout)         (None, 64)                0         \n",
      "_________________________________________________________________\n",
      "dense_68 (Dense)             (None, 1)                 65        \n",
      "=================================================================\n",
      "Total params: 1,523,497\n",
      "Trainable params: 1,519,513\n",
      "Non-trainable params: 3,984\n",
      "_________________________________________________________________\n"
     ]
    },
    {
     "data": {
      "text/plain": [
       "<matplotlib.legend.Legend at 0x13dd379e8>"
      ]
     },
     "execution_count": 77,
     "metadata": {},
     "output_type": "execute_result"
    },
    {
     "data": {
      "image/png": "[encoded data removed]",
      "text/plain": [
       "<Figure size 432x288 with 1 Axes>"
      ]
     },
     "metadata": {},
     "output_type": "display_data"
    }
   ],
   "source": [
    "model = Sequential()\n",
    "model.add(Dense(1024, activation='relu', input_dim=X_train.shape[1]))\n",
    "model.add(BatchNormalization())\n",
    "model.add(Dropout(0.5))\n",
    "\n",
    "model.add(Dense(512, activation='relu', input_dim=X_train.shape[1]))\n",
    "model.add(BatchNormalization())\n",
    "model.add(Dropout(0.5))\n",
    "\n",
    "model.add(Dense(264, activation='relu'))\n",
    "model.add(BatchNormalization())\n",
    "model.add(Dropout(0.5))\n",
    "\n",
    "model.add(Dense(128, activation='relu'))\n",
    "model.add(BatchNormalization())\n",
    "model.add(Dropout(0.5))\n",
    "\n",
    "model.add(Dense(64, activation='relu'))\n",
    "model.add(BatchNormalization())\n",
    "model.add(Dropout(0.5))\n",
    "\n",
    "model.add(Dense(1))\n",
    "model.summary()\n",
    "\n",
    "loss_dict_6 = {'val_loss': [1217.6416338833594, 1047.5823814230514, 1048.9667078853502, 1076.8766861056768, \n",
    "                            1059.8251634824612, 1102.7695363280557, 1067.353624158997, 1083.0141257887979, \n",
    "                            1090.4227442875224, 1084.03840107145, 1090.1185013321362, 1088.940090125215, \n",
    "                            1093.5605033395357, 1075.7294467749698, 1089.9973991865206], \n",
    "               'loss': [1572.8783934025064, 1041.604502517444, 895.4889809983421, 783.4881842577598, \n",
    "                        687.1998442333631, 616.595347463793, 568.280334914395, 520.4557500252855, \n",
    "                        490.2046975656187, 475.43665048506546, 450.50989299543585, 420.6035281428809, \n",
    "                        402.35682913674157, 395.7445517955127, 380.5324726923594]}\n",
    "\n",
    "loss_df_6= pd.DataFrame(loss_dict_6)\n",
    "\n",
    "plt.plot(loss_df_6.index+1, loss_df_6.loss, label='Train Loss')\n",
    "plt.plot(loss_df_6.index+1, loss_df_6.val_loss, label='Validation Loss')\n",
    "plt.title('Epoch vs Train and Validtion Loss')\n",
    "plt.xlabel('Epoch')\n",
    "plt.ylabel('Train/Validation Loss')\n",
    "plt.legend()"
   ]
  },
  {
   "cell_type": "markdown",
   "metadata": {},
   "source": [
    "### Trial 6 Results\n",
    "- Train RMSE: **23.15**\n",
    "- Validation RMSE: **33.01**\n",
    "- Test RMSE: **~33.00**\n",
    "- Lots of overfitting, but it is interesting to not that the training accuracy does go down all the way to 400 MSE for 15 epochs. This means the description of the item has an impact on predicting prices"
   ]
  },
  {
   "cell_type": "markdown",
   "metadata": {},
   "source": [
    "### Trial 7 (Dense Features)\n",
    "- learning rate (lr): 0.002\n",
    "- num_epochs: 15\n",
    "- batch_size: 2213\n",
    "- brand frequency: **100**\n",
    "- test/train split: 0.1\n",
    "- test/val split: 0.1\n",
    "\n",
    "No item description or item name features used for this model"
   ]
  },
  {
   "cell_type": "code",
   "execution_count": 80,
   "metadata": {},
   "outputs": [
    {
     "name": "stdout",
     "output_type": "stream",
     "text": [
      "_________________________________________________________________\n",
      "Layer (type)                 Output Shape              Param #   \n",
      "=================================================================\n",
      "dense_74 (Dense)             (None, 512)               406528    \n",
      "_________________________________________________________________\n",
      "batch_normalization_61 (Batc (None, 512)               2048      \n",
      "_________________________________________________________________\n",
      "dense_75 (Dense)             (None, 264)               135432    \n",
      "_________________________________________________________________\n",
      "batch_normalization_62 (Batc (None, 264)               1056      \n",
      "_________________________________________________________________\n",
      "dense_76 (Dense)             (None, 128)               33920     \n",
      "_________________________________________________________________\n",
      "batch_normalization_63 (Batc (None, 128)               512       \n",
      "_________________________________________________________________\n",
      "dense_77 (Dense)             (None, 64)                8256      \n",
      "_________________________________________________________________\n",
      "batch_normalization_64 (Batc (None, 64)                256       \n",
      "_________________________________________________________________\n",
      "dense_78 (Dense)             (None, 1)                 65        \n",
      "=================================================================\n",
      "Total params: 588,073\n",
      "Trainable params: 586,137\n",
      "Non-trainable params: 1,936\n",
      "_________________________________________________________________\n"
     ]
    },
    {
     "data": {
      "text/plain": [
       "<matplotlib.legend.Legend at 0x141547ac8>"
      ]
     },
     "execution_count": 80,
     "metadata": {},
     "output_type": "execute_result"
    },
    {
     "data": {
      "image/png": "[encoded data removed]",
      "text/plain": [
       "<Figure size 432x288 with 1 Axes>"
      ]
     },
     "metadata": {},
     "output_type": "display_data"
    }
   ],
   "source": [
    "model = Sequential()\n",
    "model.add(Dense(512, activation='relu', input_dim=X_train.shape[1]))\n",
    "model.add(BatchNormalization())\n",
    "# model.add(Dropout(0.8))\n",
    "\n",
    "model.add(Dense(264, activation='relu'))\n",
    "model.add(BatchNormalization())\n",
    "# model.add(Dropout(0.5))\n",
    "\n",
    "model.add(Dense(128, activation='relu'))\n",
    "model.add(BatchNormalization())\n",
    "# model.add(Dropout(0.5))\n",
    "\n",
    "model.add(Dense(64, activation='relu'))\n",
    "model.add(BatchNormalization())\n",
    "# model.add(Dropout(0.5))\n",
    "\n",
    "model.add(Dense(1))\n",
    "model.summary()\n",
    "\n",
    "loss_dict_7 = {'val_loss': [1086.2720, 1063.3914,1058.8141, 1064.0263, 1057.3300, 1053.7492, 1051.4364,\n",
    "                           1055.7563, 1055.9923, 1058.3496], \n",
    "               'loss': [1482.9186, 1094.8557, 1088.3559, 1084.5598, 1083.5474, 1081.2210, 1080.9597, \n",
    "                       1079.8223, 1078.7325, 1076.4778]}\n",
    "loss_df_7 = pd.DataFrame(loss_dict_7)\n",
    "\n",
    "plt.plot(loss_df_7.index+1, loss_df_7.loss, label='Train Loss')\n",
    "plt.plot(loss_df_7.index+1, loss_df_7.val_loss, label='Validation Loss')\n",
    "plt.title('Epoch vs Train and Validtion Loss')\n",
    "plt.xlabel('Epoch')\n",
    "plt.ylabel('Train/Validation Loss')\n",
    "plt.legend()"
   ]
  },
  {
   "cell_type": "markdown",
   "metadata": {},
   "source": [
    "### Trial 7 Results\n",
    "- Train RMSE: N/A\n",
    "- Validation RMSE: N/A\n",
    "- Test RMSE: N/A\n",
    "- Stopped the model early as it was not improving over 10 epochs\n",
    "- Stuck around 1100 rmse. This possibly shows how important the item description and item name field are in predicting the price."
   ]
  },
  {
   "cell_type": "markdown",
   "metadata": {},
   "source": [
    "# Future Improvements\n",
    "- Kfold to train the model\n",
    "- Separate train and test data at the beginning and use fit_transform for train vs transform for test data\n",
    "- Add regulization term to reduce the overfitting"
   ]
  }
 ],
 "metadata": {
  "kernelspec": {
   "display_name": "Python 3",
   "language": "python",
   "name": "python3"
  },
  "language_info": {
   "codemirror_mode": {
    "name": "ipython",
    "version": 3
   },
   "file_extension": ".py",
   "mimetype": "text/x-python",
   "name": "python",
   "nbconvert_exporter": "python",
   "pygments_lexer": "ipython3",
   "version": "3.6.5"
  }
 },
 "nbformat": 4,
 "nbformat_minor": 2
}
